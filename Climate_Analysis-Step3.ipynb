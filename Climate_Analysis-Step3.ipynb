{
 "cells": [
  {
   "cell_type": "code",
   "execution_count": null,
   "metadata": {},
   "outputs": [],
   "source": [
    "# Import all dependencies\n",
    "import matplotlib\n",
    "matplotlib.use('nbagg')\n",
    "from matplotlib import style\n",
    "style.use('seaborn')\n",
    "import matplotlib.pyplot as plt\n",
    "import pandas as pd\n",
    "import numpy as np\n",
    "import csv\n",
    "import os\n",
    "import seaborn as sns\n",
    "from datetime import datetime as dt, timedelta\n",
    "\n",
    "import sqlalchemy\n",
    "from sqlalchemy.ext.automap import automap_base\n",
    "from sqlalchemy.orm import Session\n",
    "from sqlalchemy import create_engine, inspect, func, desc"
   ]
  },
  {
   "cell_type": "markdown",
   "metadata": {},
   "source": [
    "# Conducting Analysis"
   ]
  },
  {
   "cell_type": "code",
   "execution_count": null,
   "metadata": {},
   "outputs": [],
   "source": [
    "# Create an engine to a SQLite database file: `hawaii.sqlite`\n",
    "engine = create_engine(\"sqlite:///hawaii.sqlite\", echo = False)"
   ]
  },
  {
   "cell_type": "markdown",
   "metadata": {},
   "source": [
    "# Explore Database"
   ]
  },
  {
   "cell_type": "code",
   "execution_count": null,
   "metadata": {},
   "outputs": [],
   "source": [
    "# View table names\n",
    "inspector = inspect(engine)\n",
    "inspector.get_table_names()"
   ]
  },
  {
   "cell_type": "code",
   "execution_count": null,
   "metadata": {},
   "outputs": [],
   "source": [
    "# View columns and types for each table\n",
    "columns = inspector.get_columns('measurements')\n",
    "for c in columns:\n",
    "    print(c['name'], c[\"type\"])\n",
    "# columns"
   ]
  },
  {
   "cell_type": "code",
   "execution_count": null,
   "metadata": {},
   "outputs": [],
   "source": [
    "columns = inspector.get_columns('stations')\n",
    "for c in columns:\n",
    "    print(c['name'], c[\"type\"])\n",
    "# columns"
   ]
  },
  {
   "cell_type": "code",
   "execution_count": null,
   "metadata": {},
   "outputs": [],
   "source": [
    "# Reflect Database into ORM classes\n",
    "Base = automap_base()\n",
    "Base.prepare(engine, reflect=True)\n",
    "Base.classes.keys() "
   ]
  },
  {
   "cell_type": "code",
   "execution_count": null,
   "metadata": {},
   "outputs": [],
   "source": [
    "# Map each item\n",
    "Measurements = Base.classes.measurements \n",
    "Stations = Base.classes.stations "
   ]
  },
  {
   "cell_type": "code",
   "execution_count": null,
   "metadata": {},
   "outputs": [],
   "source": [
    "session = Session(engine)"
   ]
  },
  {
   "cell_type": "markdown",
   "metadata": {},
   "source": [
    "# Precipitation Analysis"
   ]
  },
  {
   "cell_type": "code",
   "execution_count": null,
   "metadata": {},
   "outputs": [],
   "source": [
    "# Retrieve Latest Date to avoid the need to hard code the actual date\n",
    "session.query(Measurements.date).order_by(Measurements.date.desc()).first()"
   ]
  },
  {
   "cell_type": "code",
   "execution_count": null,
   "metadata": {},
   "outputs": [],
   "source": [
    "# Get and store date in proper format\n",
    "latest_date = session.query(Measurements.date).order_by(Measurements.date.desc()).first()[0]\n",
    "format_latest_date = dt.strptime(latest_date,\"%Y-%m-%d\")\n",
    "format_latest_date "
   ]
  },
  {
   "cell_type": "code",
   "execution_count": null,
   "metadata": {},
   "outputs": [],
   "source": [
    "# Gather data from last 12 months\n",
    "sel = [Measurements.date, Measurements.prcp]\n",
    "initial_date = format_latest_date - timedelta(days=365) \n",
    "prcp_data = session.query(*sel).\\\n",
    "    filter((Measurements.date >= initial_date)).all()\n",
    "    \n",
    "prcp_data[:10] "
   ]
  },
  {
   "cell_type": "markdown",
   "metadata": {},
   "source": [
    "# Create dataframe for plot"
   ]
  },
  {
   "cell_type": "code",
   "execution_count": null,
   "metadata": {},
   "outputs": [],
   "source": [
    "prcp_df = pd.DataFrame(prcp_data, columns=['Precipitation Date', 'Precipitation'])\n",
    "prcp_df.set_index('Precipitation Date', inplace=True)"
   ]
  },
  {
   "cell_type": "code",
   "execution_count": null,
   "metadata": {},
   "outputs": [],
   "source": [
    "prcp_df.count()"
   ]
  },
  {
   "cell_type": "code",
   "execution_count": null,
   "metadata": {},
   "outputs": [],
   "source": [
    "prcp_df.head() "
   ]
  },
  {
   "cell_type": "code",
   "execution_count": null,
   "metadata": {},
   "outputs": [],
   "source": [
    "# Create precipitation analysis plot\n",
    "prcp_df.plot()\n",
    "plt.xlabel(\"Precipitation Data from 8/24/2016 through 8/23/2017\")\n",
    "plt.ylabel(\"Precipitation Amount\")\n",
    "plt.show()"
   ]
  },
  {
   "cell_type": "markdown",
   "metadata": {},
   "source": [
    "# Summary Statistics for Precipitation Data"
   ]
  },
  {
   "cell_type": "code",
   "execution_count": null,
   "metadata": {},
   "outputs": [],
   "source": [
    "#Use Pandas to print the summary statistics for the precipitation data.\n",
    "prcp_df.describe()"
   ]
  },
  {
   "cell_type": "code",
   "execution_count": null,
   "metadata": {},
   "outputs": [],
   "source": [
    "prcp_df.dtypes"
   ]
  },
  {
   "cell_type": "markdown",
   "metadata": {},
   "source": [
    "# Station Analysis"
   ]
  },
  {
   "cell_type": "code",
   "execution_count": null,
   "metadata": {},
   "outputs": [],
   "source": [
    "# Get station names and IDs\n",
    "stations = session.query(Stations.name, Stations.station).all()\n",
    "stations_df  = pd.DataFrame(stations,columns=[\"Station Name\", \"Station ID\"])\n",
    "stations_dict = stations_df.to_dict(orient='records')\n",
    "stations_dict "
   ]
  },
  {
   "cell_type": "code",
   "execution_count": null,
   "metadata": {},
   "outputs": [],
   "source": [
    "# Find total number of stations\n",
    "station_count = session.query(Stations.id).count()\n",
    "print (\"Total Number of Stations are: \"+ str(station_count))"
   ]
  },
  {
   "cell_type": "code",
   "execution_count": null,
   "metadata": {},
   "outputs": [],
   "source": [
    "# Find and display most active stations\n",
    "sel = [Measurements.station, func.count(Measurements.tobs)]\n",
    "active_station_data = session.query(*sel).group_by(Measurements.station).order_by(desc(func.count(Measurements.tobs))).all()\n",
    "active_station_data"
   ]
  },
  {
   "cell_type": "code",
   "execution_count": null,
   "metadata": {},
   "outputs": [],
   "source": [
    "print (\"The station with the most observation data is: \" + str(active_stations_data[0]))"
   ]
  },
  {
   "cell_type": "code",
   "execution_count": null,
   "metadata": {},
   "outputs": [],
   "source": [
    "highest_station = active_station_data[0][0]"
   ]
  },
  {
   "cell_type": "code",
   "execution_count": null,
   "metadata": {},
   "outputs": [],
   "source": [
    "# Retrieve last 12 months of temperature observation data and plot results\n",
    "\n",
    "sel = [Measurements.tobs]\n",
    "temperature_data = session.query(*sel).\\\n",
    "    filter(Measurements.date >= initial_date).\\\n",
    "    filter(Measurements.station == highest_station).all()"
   ]
  },
  {
   "cell_type": "code",
   "execution_count": null,
   "metadata": {},
   "outputs": [],
   "source": [
    "len(temperature_data) "
   ]
  },
  {
   "cell_type": "code",
   "execution_count": null,
   "metadata": {},
   "outputs": [],
   "source": [
    "# Plot histogram with bins \n",
    "tobs_data = []\n",
    "for row in temperature_data:\n",
    "    tobs_data.append(row[0])"
   ]
  },
  {
   "cell_type": "code",
   "execution_count": null,
   "metadata": {},
   "outputs": [],
   "source": [
    "plt.hist(tobs_data, bins=12, label='tobs', color = 'teal')\n",
    "plt.xlabel(\"Temparture Observation Data\")\n",
    "plt.ylabel(\"Frequency\")\n",
    "plt.show()"
   ]
  },
  {
   "cell_type": "markdown",
   "metadata": {},
   "source": [
    "# Temperature Analysis"
   ]
  },
  {
   "cell_type": "code",
   "execution_count": null,
   "metadata": {},
   "outputs": [],
   "source": [
    "def temp_analysis(trip_start, trip_end):\n",
    "    Start_Date = dt.strptime(trip_start, \"%Y-%m-%d\")\n",
    "    Start_Date = Start_Date.replace(Start_Date.year - 1)\n",
    "    End_Date = dt.strptime(trip_end, \"%Y-%m-%d\")\n",
    "    End_Date = End_Date.replace(End_Date.year - 1)\n",
    "    \n",
    "    delta = End_Date - Start_Date\n",
    "    date_range = []\n",
    "    for i in range(delta.days + 1):\n",
    "        date_range.append(Start_Date + timedelta(days=i))\n",
    "       \n",
    "    str_date_range = []\n",
    "    for date in date_range:\n",
    "        new_date = date.strftime(\"%Y-%m-%d\")\n",
    "        str_date_range.append(new_date)\n",
    "           \n",
    "    avg_temp = session.query(func.avg(Measurements.tobs))\\\n",
    "              .filter(Measurements.date.in_(str_date_range))[0][0]\n",
    "    min_temp = session.query(func.min(Measurements.tobs))\\\n",
    "              .filter(Measurements.date.in_(str_date_range))[0][0]\n",
    "    max_temp = session.query(func.max(Measurements.tobs))\\\n",
    "              .filter(Measurements.date.in_(str_date_range))[0][0]\n",
    "       \n",
    "    return avg_temp, min_temp, max_temp    "
   ]
  },
  {
   "cell_type": "code",
   "execution_count": null,
   "metadata": {},
   "outputs": [],
   "source": [
    "# Prompt for trip dates to find temp data\n",
    "trip_start = input(\"Please enter your trip's start date in yyyy-mm-dd format: \")\n",
    "trip_end = input (\"Please enter your trip's end date in yyyy-mm-dd format: \")"
   ]
  },
  {
   "cell_type": "code",
   "execution_count": null,
   "metadata": {},
   "outputs": [],
   "source": [
    "trip_temp = temp_analysis(trip_start, trip_end)\n",
    "print (\"Here is the average, minimum and maximum temperature for your trip given the entered dates: \" + str(Trip_Output))"
   ]
  },
  {
   "cell_type": "code",
   "execution_count": null,
   "metadata": {},
   "outputs": [],
   "source": [
    "# Store info for the plot points\n",
    "tavg = trip_temp[0]\n",
    "tmin = trip_temp[1]\n",
    "tmax = trip_temp[2]"
   ]
  },
  {
   "cell_type": "code",
   "execution_count": null,
   "metadata": {},
   "outputs": [],
   "source": [
    "# Plot Bar chart \n",
    "plt.figure(figsize=(2,5))\n",
    "plt.bar(1,height=tavg, yerr=(tmax-tmin), width=0.0001, alpha=0.5)\n",
    "plt.title(\"Trip Avg Temperature\")\n",
    "plt.xticks([])\n",
    "plt.ylim(0,100)\n",
    "plt.ylabel(\"Temp (F)\")\n",
    "plt.show()"
   ]
  }
 ],
 "metadata": {
  "kernelspec": {
   "display_name": "Python 3",
   "language": "python",
   "name": "python3"
  },
  "language_info": {
   "codemirror_mode": {
    "name": "ipython",
    "version": 3
   },
   "file_extension": ".py",
   "mimetype": "text/x-python",
   "name": "python",
   "nbconvert_exporter": "python",
   "pygments_lexer": "ipython3",
   "version": "3.6.4"
  }
 },
 "nbformat": 4,
 "nbformat_minor": 2
}
